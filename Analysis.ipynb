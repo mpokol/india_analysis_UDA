{
 "cells": [
  {
   "cell_type": "code",
   "execution_count": 3,
   "metadata": {},
   "outputs": [],
   "source": [
    "#Import packages\n",
    "import pandas as pd\n",
    "import numpy as np\n",
    "import glob\n",
    "import re\n",
    "import string\n",
    "import codecs"
   ]
  },
  {
   "cell_type": "code",
   "execution_count": 4,
   "metadata": {},
   "outputs": [
    {
     "name": "stderr",
     "output_type": "stream",
     "text": [
      "C:\\Users\\deron\\Anaconda3\\lib\\site-packages\\ipykernel_launcher.py:8: FutureWarning: Sorting because non-concatenation axis is not aligned. A future version\n",
      "of pandas will change to not sort by default.\n",
      "\n",
      "To accept the future behavior, pass 'sort=False'.\n",
      "\n",
      "To retain the current behavior and silence the warning, pass 'sort=True'.\n",
      "\n",
      "  \n"
     ]
    }
   ],
   "source": [
    "#Create single parliament_qs dataframe with all question data\n",
    "li = []\n",
    "\n",
    "for file in glob.glob('./Parliament_Qs/rajyasabha_questions_and_answers_*.csv'):\n",
    "    data = pd.read_csv(file)\n",
    "    li.append(data)\n",
    "    \n",
    "parliament_qs = pd.concat(li, axis = 0, ignore_index = True)"
   ]
  },
  {
   "cell_type": "code",
   "execution_count": 5,
   "metadata": {},
   "outputs": [],
   "source": [
    "#Code borrowed and adapted from George Chen, Carnegie Mellon University#\n",
    "#Define function to remove punctuation and whitespace, and lowercase all text\n",
    "def makeWordList(str_object):\n",
    "    \n",
    "    corpus_text = str(str_object)\n",
    "    \n",
    "    for c in string.punctuation:\n",
    "        corpus_text = corpus_text.replace(c, \"\")  # -- (1)\n",
    "    \n",
    "    text = re.sub(r'\\S*\\d\\S*','',corpus_text) # -- (2)\n",
    "    text = re.sub(r'[^\\w\\s]','',text)         # -- (3)\n",
    "    \n",
    "    text = text.lower().split()           # -- (4)         \n",
    "    \n",
    "    li = []\n",
    "    for token in text:\n",
    "        li.append(token)\n",
    "\n",
    "    return \" \".join(li)"
   ]
  },
  {
   "cell_type": "code",
   "execution_count": 6,
   "metadata": {},
   "outputs": [],
   "source": [
    "#Process the questions\n",
    "processed_questions = []\n",
    "\n",
    "for str_object in list(parliament_qs[\"question_description\"]):\n",
    "    processed_questions.append(makeWordList(str_object))"
   ]
  },
  {
   "cell_type": "code",
   "execution_count": 7,
   "metadata": {},
   "outputs": [],
   "source": [
    "#Process responses\n",
    "processed_answers = []\n",
    "\n",
    "for str_object in list(parliament_qs[\"answer\"]):\n",
    "    processed_answers.append(makeWordList(str_object))"
   ]
  },
  {
   "cell_type": "code",
   "execution_count": 8,
   "metadata": {},
   "outputs": [],
   "source": [
    "#Use CountVectorizer to transform parliamentary questions\n",
    "from sklearn.feature_extraction.text import CountVectorizer\n",
    "vectorizer = CountVectorizer(min_df=200, stop_words=\"english\", max_df=0.8)\n",
    "questions_fit = vectorizer.fit(processed_questions)\n",
    "X_questions = vectorizer.fit_transform(processed_questions).toarray()"
   ]
  },
  {
   "cell_type": "code",
   "execution_count": 9,
   "metadata": {},
   "outputs": [
    {
     "data": {
      "text/plain": [
       "LatentDirichletAllocation(batch_size=128, doc_topic_prior=None,\n",
       "                          evaluate_every=-1, learning_decay=0.7,\n",
       "                          learning_method='online', learning_offset=10.0,\n",
       "                          max_doc_update_iter=100, max_iter=10,\n",
       "                          mean_change_tol=0.001, n_components=10, n_jobs=None,\n",
       "                          perp_tol=0.1, random_state=0, topic_word_prior=None,\n",
       "                          total_samples=1000000.0, verbose=0)"
      ]
     },
     "execution_count": 9,
     "metadata": {},
     "output_type": "execute_result"
    }
   ],
   "source": [
    "#!Time-consuming!#\n",
    "#Create topics using LDA\n",
    "num_topics = 10\n",
    "\n",
    "from sklearn.decomposition import LatentDirichletAllocation\n",
    "lda = LatentDirichletAllocation(n_components=num_topics, learning_method='online', random_state=0)\n",
    "lda.fit(X_questions)"
   ]
  },
  {
   "cell_type": "code",
   "execution_count": 11,
   "metadata": {},
   "outputs": [
    {
     "name": "stdout",
     "output_type": "stream",
     "text": [
      "Displaying the top 10 words per topic and their probabilities within the topic...\n",
      "\n",
      "[Topic 0]\n",
      "gap : 0.06760957134748051\n",
      "farmers : 0.0331074729264825\n",
      "partnership : 0.0325008695861109\n",
      "infrastructure : 0.03201284098563931\n",
      "regardc : 0.026739571880887214\n",
      "energy : 0.02614834419974233\n",
      "technology : 0.025976113185775272\n",
      "proportion : 0.020280261709398097\n",
      "hilly : 0.018522831226632203\n",
      "december : 0.01675405143255343\n",
      "\n",
      "[Topic 1]\n",
      "laid : 0.06525003276359193\n",
      "regular : 0.05778434814919767\n",
      "framed : 0.042211316866419255\n",
      "infrastructure : 0.02711874207911778\n",
      "yearb : 0.024732822055675906\n",
      "gap : 0.020124111748620874\n",
      "schools : 0.019201463114626036\n",
      "entered : 0.01569709716485583\n",
      "northeastern : 0.014069795495692275\n",
      "sites : 0.012737583586373554\n",
      "\n",
      "[Topic 2]\n",
      "infrastructure : 0.04616558999782208\n",
      "proportion : 0.031170419072842886\n",
      "directed : 0.02838172194357632\n",
      "hilly : 0.020298604045704306\n",
      "key : 0.018402013529961927\n",
      "crore : 0.018241918531560708\n",
      "based : 0.017801253862481336\n",
      "gap : 0.017378913579152576\n",
      "tourist : 0.011831762739062104\n",
      "prevention : 0.011436750309665724\n",
      "\n",
      "[Topic 3]\n",
      "infrastructure : 0.0332043776436558\n",
      "standard : 0.030536106050030466\n",
      "accidents : 0.024307994503146312\n",
      "proportion : 0.023520617151812417\n",
      "society : 0.020775906804011125\n",
      "educational : 0.019444130197294504\n",
      "gap : 0.018106631083495386\n",
      "research : 0.017923153197131836\n",
      "achievements : 0.017844758439693728\n",
      "proposing : 0.017366088717500887\n",
      "\n",
      "[Topic 4]\n",
      "infrastructure : 0.04872331722351168\n",
      "crore : 0.039128766679600656\n",
      "proportion : 0.03131746567285131\n",
      "directed : 0.031233691681286372\n",
      "gap : 0.02687743876477418\n",
      "visavis : 0.02651249973820985\n",
      "way : 0.019104687170701646\n",
      "accorded : 0.01823683631782377\n",
      "pertaining : 0.017140038317512218\n",
      "november : 0.016862983629742697\n",
      "\n",
      "[Topic 5]\n",
      "andb : 0.03812664378556035\n",
      "representatives : 0.0348860296795899\n",
      "insurance : 0.03245863044069819\n",
      "granted : 0.02573795236023299\n",
      "key : 0.02534743308834932\n",
      "indiab : 0.02373615733879431\n",
      "colleges : 0.021294546809370516\n",
      "court : 0.017833279798927477\n",
      "orissa : 0.014930648398466202\n",
      "situated : 0.014415375239492441\n",
      "\n",
      "[Topic 6]\n",
      "gap : 0.055322117540512514\n",
      "infrastructure : 0.048987239615711074\n",
      "threat : 0.02979247810485993\n",
      "proportion : 0.02858372436280285\n",
      "maintain : 0.02029807492787693\n",
      "entered : 0.0202784101978445\n",
      "patients : 0.019322292748005288\n",
      "bureau : 0.018702660071844047\n",
      "organisation : 0.018193854339873257\n",
      "villages : 0.015101522159687096\n",
      "\n",
      "[Topic 7]\n",
      "infrastructure : 0.0638834131815321\n",
      "gap : 0.037224997708905735\n",
      "agencies : 0.03039821147793335\n",
      "anddif : 0.028469659053072124\n",
      "proportion : 0.023395107871252284\n",
      "yearsc : 0.022667568306462788\n",
      "unit : 0.02175566821169725\n",
      "nuclear : 0.02047778180610493\n",
      "constructed : 0.019280115762156318\n",
      "achieving : 0.017582779460128154\n",
      "\n",
      "[Topic 8]\n",
      "gap : 0.10332993475627285\n",
      "infrastructure : 0.07859428574318823\n",
      "proportion : 0.0558065623240128\n",
      "partnership : 0.054336254351613524\n",
      "maintain : 0.045102029680617904\n",
      "corridor : 0.03283776090418495\n",
      "energy : 0.030897072930668665\n",
      "directed : 0.022812226607506154\n",
      "permanent : 0.021012329881070543\n",
      "statistics : 0.01684594958979321\n",
      "\n",
      "[Topic 9]\n",
      "laying : 0.13398685795358597\n",
      "anddif : 0.046580941597646364\n",
      "committed : 0.034587978049112685\n",
      "achieving : 0.03242425337948681\n",
      "protect : 0.029319949324592302\n",
      "hilly : 0.02735554076655462\n",
      "trains : 0.022950530650012964\n",
      "speed : 0.020901829216995717\n",
      "compensation : 0.02036536806927685\n",
      "payment : 0.018837324801075594\n",
      "\n"
     ]
    }
   ],
   "source": [
    "#Display top 10 words from each topic\n",
    "words = list(questions_fit.vocabulary_)\n",
    "topic_word_distributions = np.array([row / row.sum() for row in lda.components_])\n",
    "num_top_words = 10\n",
    "\n",
    "print('Displaying the top 10 words per topic and their probabilities within the topic...')\n",
    "print()\n",
    "\n",
    "for topic_idx in range(num_topics):\n",
    "    print('[Topic ', topic_idx, ']', sep='')\n",
    "    sort_indices = np.argsort(-topic_word_distributions[topic_idx])\n",
    "    for rank in range(num_top_words):\n",
    "        word_idx = sort_indices[rank]\n",
    "        print(words[word_idx], ':', topic_word_distributions[topic_idx, word_idx])\n",
    "    print()"
   ]
  },
  {
   "cell_type": "code",
   "execution_count": null,
   "metadata": {},
   "outputs": [],
   "source": [
    "len(processed_questions)"
   ]
  },
  {
   "cell_type": "code",
   "execution_count": null,
   "metadata": {},
   "outputs": [],
   "source": [
    "X_questions"
   ]
  },
  {
   "cell_type": "code",
   "execution_count": null,
   "metadata": {},
   "outputs": [],
   "source": []
  }
 ],
 "metadata": {
  "kernelspec": {
   "display_name": "Python 3",
   "language": "python",
   "name": "python3"
  },
  "language_info": {
   "codemirror_mode": {
    "name": "ipython",
    "version": 3
   },
   "file_extension": ".py",
   "mimetype": "text/x-python",
   "name": "python",
   "nbconvert_exporter": "python",
   "pygments_lexer": "ipython3",
   "version": "3.6.9"
  }
 },
 "nbformat": 4,
 "nbformat_minor": 2
}
